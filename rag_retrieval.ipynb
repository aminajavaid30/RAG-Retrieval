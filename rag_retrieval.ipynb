{
 "cells": [
  {
   "cell_type": "markdown",
   "metadata": {},
   "source": [
    "# Retrieval Augmented Generation (RAG) - Data Retrieval"
   ]
  },
  {
   "cell_type": "code",
   "execution_count": 1,
   "metadata": {},
   "outputs": [],
   "source": [
    "# ignore warnings\n",
    "import warnings\n",
    "warnings.filterwarnings('ignore')"
   ]
  },
  {
   "cell_type": "markdown",
   "metadata": {},
   "source": [
    "### Load, split, embed, and store a PDF document"
   ]
  },
  {
   "cell_type": "code",
   "execution_count": 2,
   "metadata": {},
   "outputs": [],
   "source": [
    "from langchain_community.document_loaders import PyPDFLoader\n",
    "from langchain_text_splitters import RecursiveCharacterTextSplitter\n",
    "from langchain_community.vectorstores import FAISS\n",
    "from langchain_huggingface.embeddings import HuggingFaceEmbeddings\n",
    "\n",
    "# Load a PDF document and split it into chunks\n",
    "file_path = \"data/Dale_Carnegie_Golden_Book-Se.pdf\"  # Path of the document to be loaded\n",
    "loader = PyPDFLoader(file_path)                      # Initialize the pdf loader\n",
    "documents = loader.load()                            # Load the pdf document \n",
    "\n",
    "# Initialize the recursive character text splitter\n",
    "text_splitter = RecursiveCharacterTextSplitter(              \n",
    "    separators=\"\",\n",
    "    chunk_size=100,\n",
    "    chunk_overlap=20\n",
    ")   \n",
    "\n",
    "# Split the documents into chunks\n",
    "chunks = text_splitter.split_documents(documents)\n",
    "\n",
    "# Initialize the Hugging Face embedding model\n",
    "embeddings = HuggingFaceEmbeddings(model_name=\"sentence-transformers/all-mpnet-base-v2\")\n",
    "\n",
    "# Store embeddings into the vector store\n",
    "vector_store = FAISS.from_documents(\n",
    "    documents=chunks,\n",
    "    embedding=embeddings\n",
    ")"
   ]
  },
  {
   "cell_type": "markdown",
   "metadata": {},
   "source": [
    "### Data Retrieval - Vector Store as Retriever"
   ]
  },
  {
   "cell_type": "markdown",
   "metadata": {},
   "source": [
    "#### Similarity Search Retrieval"
   ]
  },
  {
   "cell_type": "code",
   "execution_count": 11,
   "metadata": {},
   "outputs": [
    {
     "name": "stdout",
     "output_type": "stream",
     "text": [
      "4 documents have been retrieved.\n"
     ]
    }
   ],
   "source": [
    "# Retrieve relevant information using similarity search\n",
    "retriever = vector_store.as_retriever() # uses similarity search by default\n",
    "docs = retriever.invoke(\"Who is Dale Carnegie?\")\n",
    "print(len(docs), \"documents have been retrieved.\")"
   ]
  },
  {
   "cell_type": "code",
   "execution_count": 10,
   "metadata": {},
   "outputs": [
    {
     "data": {
      "text/plain": [
       "[Document(metadata={'source': 'data/Dale_Carnegie_Golden_Book-Se.pdf', 'page': 6}, page_content='Dale Carnegie \\n1888-1955 \\nFounder \\nBiography'),\n",
       " Document(metadata={'source': 'data/Dale_Carnegie_Golden_Book-Se.pdf', 'page': 6}, page_content='Founder \\nBiography \\nDale Carnegie was born in 1888 in Missouri, USA and was educated at'),\n",
       " Document(metadata={'source': 'data/Dale_Carnegie_Golden_Book-Se.pdf', 'page': 0}, page_content='DALE CARNEGIE’S \\nGOLDEN BOOK \\nwww.dalecarnegie.com'),\n",
       " Document(metadata={'source': 'data/Dale_Carnegie_Golden_Book-Se.pdf', 'page': 6}, page_content=\"Founded in 1912, Dale Carnegie Training has evolved from one man's belief in\")]"
      ]
     },
     "execution_count": 10,
     "metadata": {},
     "output_type": "execute_result"
    }
   ],
   "source": [
    "docs"
   ]
  },
  {
   "cell_type": "markdown",
   "metadata": {},
   "source": [
    "#### Maximum Marginal Relevance (MMR) Retrieval"
   ]
  },
  {
   "cell_type": "code",
   "execution_count": 13,
   "metadata": {},
   "outputs": [
    {
     "name": "stdout",
     "output_type": "stream",
     "text": [
      "4 documents have been retrieved.\n"
     ]
    }
   ],
   "source": [
    "# Retrieve relevant information using maximum marginal relevance retrieval\n",
    "retriever = vector_store.as_retriever(search_type=\"mmr\") # uses mmr as search type\n",
    "docs = retriever.invoke(\"Who is Dale Carnegie?\")\n",
    "print(len(docs), \"documents have been retrieved.\")"
   ]
  },
  {
   "cell_type": "code",
   "execution_count": 14,
   "metadata": {},
   "outputs": [
    {
     "data": {
      "text/plain": [
       "[Document(metadata={'source': 'data/Dale_Carnegie_Golden_Book-Se.pdf', 'page': 6}, page_content='Dale Carnegie \\n1888-1955 \\nFounder \\nBiography'),\n",
       " Document(metadata={'source': 'data/Dale_Carnegie_Golden_Book-Se.pdf', 'page': 6}, page_content='Warrensburg State Teachers College. As a salesman and aspiring actor, he'),\n",
       " Document(metadata={'source': 'data/Dale_Carnegie_Golden_Book-Se.pdf', 'page': 6}, page_content='world leaders. He wrote newspaper columns and had his own daily radio show.'),\n",
       " Document(metadata={'source': 'data/Dale_Carnegie_Golden_Book-Se.pdf', 'page': 1}, page_content='– – – – – – – – – – – – – – – – – – – – – – – – – – – – – – – – – – – – – – –')]"
      ]
     },
     "execution_count": 14,
     "metadata": {},
     "output_type": "execute_result"
    }
   ],
   "source": [
    "docs"
   ]
  },
  {
   "cell_type": "markdown",
   "metadata": {},
   "source": [
    "#### Similarity Score Threshold Retriever"
   ]
  },
  {
   "cell_type": "code",
   "execution_count": 21,
   "metadata": {},
   "outputs": [
    {
     "name": "stdout",
     "output_type": "stream",
     "text": [
      "2 documents have been retrieved.\n"
     ]
    }
   ],
   "source": [
    "# Retrieve relevant information using similarity score threshold\n",
    "retriever = vector_store.as_retriever(\n",
    "    search_type=\"similarity_score_threshold\", search_kwargs={\"score_threshold\": 0.5}\n",
    ")\n",
    "docs = retriever.invoke(\"Who is Dale Carnegie?\")\n",
    "print(len(docs), \"documents have been retrieved.\")"
   ]
  },
  {
   "cell_type": "code",
   "execution_count": 22,
   "metadata": {},
   "outputs": [
    {
     "data": {
      "text/plain": [
       "[Document(metadata={'source': 'data/Dale_Carnegie_Golden_Book-Se.pdf', 'page': 6}, page_content='Dale Carnegie \\n1888-1955 \\nFounder \\nBiography'),\n",
       " Document(metadata={'source': 'data/Dale_Carnegie_Golden_Book-Se.pdf', 'page': 6}, page_content='Founder \\nBiography \\nDale Carnegie was born in 1888 in Missouri, USA and was educated at')]"
      ]
     },
     "execution_count": 22,
     "metadata": {},
     "output_type": "execute_result"
    }
   ],
   "source": [
    "docs"
   ]
  },
  {
   "cell_type": "markdown",
   "metadata": {},
   "source": [
    "#### Specifying Top k Documents"
   ]
  },
  {
   "cell_type": "code",
   "execution_count": 27,
   "metadata": {},
   "outputs": [
    {
     "name": "stdout",
     "output_type": "stream",
     "text": [
      "3 documents have been retrieved.\n"
     ]
    }
   ],
   "source": [
    "# Retrieve top k relevant documents\n",
    "retriever = vector_store.as_retriever(search_kwargs={\"k\": 3})\n",
    "docs = retriever.invoke(\"Who is Dale Carnegie?\")\n",
    "print(len(docs), \"documents have been retrieved.\")"
   ]
  },
  {
   "cell_type": "code",
   "execution_count": 28,
   "metadata": {},
   "outputs": [
    {
     "data": {
      "text/plain": [
       "[Document(metadata={'source': 'data/Dale_Carnegie_Golden_Book-Se.pdf', 'page': 6}, page_content='Dale Carnegie \\n1888-1955 \\nFounder \\nBiography'),\n",
       " Document(metadata={'source': 'data/Dale_Carnegie_Golden_Book-Se.pdf', 'page': 6}, page_content='Founder \\nBiography \\nDale Carnegie was born in 1888 in Missouri, USA and was educated at'),\n",
       " Document(metadata={'source': 'data/Dale_Carnegie_Golden_Book-Se.pdf', 'page': 0}, page_content='DALE CARNEGIE’S \\nGOLDEN BOOK \\nwww.dalecarnegie.com')]"
      ]
     },
     "execution_count": 28,
     "metadata": {},
     "output_type": "execute_result"
    }
   ],
   "source": [
    "docs"
   ]
  }
 ],
 "metadata": {
  "kernelspec": {
   "display_name": "rag",
   "language": "python",
   "name": "python3"
  },
  "language_info": {
   "codemirror_mode": {
    "name": "ipython",
    "version": 3
   },
   "file_extension": ".py",
   "mimetype": "text/x-python",
   "name": "python",
   "nbconvert_exporter": "python",
   "pygments_lexer": "ipython3",
   "version": "3.12.4"
  }
 },
 "nbformat": 4,
 "nbformat_minor": 2
}
